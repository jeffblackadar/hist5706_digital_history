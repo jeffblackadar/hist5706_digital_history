{
  "nbformat": 4,
  "nbformat_minor": 0,
  "metadata": {
    "colab": {
      "name": "charcoalhearth_paradata_workbook.ipynb",
      "provenance": [],
      "collapsed_sections": [],
      "authorship_tag": "ABX9TyOy3SrBImPGtJuwiOmaPtYc",
      "include_colab_link": true
    },
    "kernelspec": {
      "name": "python3",
      "display_name": "Python 3"
    },
    "language_info": {
      "name": "python"
    }
  },
  "cells": [
    {
      "cell_type": "markdown",
      "metadata": {
        "id": "view-in-github",
        "colab_type": "text"
      },
      "source": [
        "<a href=\"https://colab.research.google.com/github/jeffblackadar/hist5706_digital_history/blob/main/charcoalhearth_paradata_workbook.ipynb\" target=\"_parent\"><img src=\"https://colab.research.google.com/assets/colab-badge.svg\" alt=\"Open In Colab\"/></a>"
      ]
    },
    {
      "cell_type": "markdown",
      "metadata": {
        "id": "pJT-KjkgC4Lm"
      },
      "source": [
        "# Paradata calculations for CharoalProduction model\n",
        "\n"
      ]
    },
    {
      "cell_type": "code",
      "metadata": {
        "colab": {
          "base_uri": "https://localhost:8080/"
        },
        "id": "E8iRJeoKbBZ9",
        "outputId": "6f322113-ee8c-4fdd-f42e-501dc04752a5"
      },
      "source": [
        "# area of a Hexagon\n",
        "import math\n",
        "\n",
        "def acres_to_meters(acres):\n",
        "# https://en.wikipedia.org/wiki/Acre\n",
        "# 1 acre = 4,047 m2\n",
        "    return acres * 4047\n",
        "\n",
        "def acres_to_feet(acres):\n",
        "# https://en.wikipedia.org/wiki/Acre\n",
        "# 1 acre = 43,560 feet2\n",
        "    return acres * 43560\n",
        "\n",
        "def compute_hexagon_side_length(area):\n",
        "# https://en.wikipedia.org/wiki/Hexagon\n",
        "# hexagon area = 2.598 R^2\n",
        "# R = distance from the center to a point of the hexagon. R also = the length of each of the 6 sides.\n",
        "    return round(math.sqrt(area/2.598),1)\n",
        "\n",
        "print(\"A 1 acre hexagon has sides with a length of\", compute_hexagon_side_length(acres_to_meters(1)), \"meters or\",compute_hexagon_side_length(acres_to_feet(1)),\"feet. It is\",compute_hexagon_side_length(acres_to_meters(1))*2,\"meters or\",compute_hexagon_side_length(acres_to_feet(1))*2, \"feet across, point to point or center to center.\")\n"
      ],
      "execution_count": 11,
      "outputs": [
        {
          "output_type": "stream",
          "name": "stdout",
          "text": [
            "A 1 acre hexagon has sides with a length of 39.5 meters or 129.5 feet. It is 79.0 meters or 259.0 feet across, point to point or center to center.\n"
          ]
        }
      ]
    },
    {
      "cell_type": "code",
      "metadata": {
        "id": "bZSU9wefbLyG"
      },
      "source": [
        ""
      ],
      "execution_count": null,
      "outputs": []
    },
    {
      "cell_type": "markdown",
      "metadata": {
        "id": "e6Mo8djlbmrs"
      },
      "source": [
        "\n"
      ]
    },
    {
      "cell_type": "markdown",
      "metadata": {
        "id": "8dW4Ch_OeRgk"
      },
      "source": [
        "# Estimating Firewood from Standing Trees\n",
        "\n",
        "## References\n",
        "David A Marquis and Northeastern Forest Experiment Station, Clearcutting in Northern Hardwood: Results after 30 Years (Upper Darby, Pa: Northeastern Forest Experiment Station, 1967), 2, https://www.fs.fed.us/ne/newtown_square/publications/research_papers/pdfs/scanned/rp85.pdf. \n",
        "\n",
        "Marshall Patmos, “Estimating Firewood from Standing Trees,” Educational, University of New Hampshire Cooperative Extension, January 2005, Accessed December 5, 2021, https://extension.unh.edu/sites/default/files/migrated_unmanaged_files/Resource001044_Rep1200.pdf.\n",
        "\n",
        "S. R. Gevorkiantz and L. P. Olsen, Composite Volume Tables for Timber and Their Application in the Lake States (Washington, DC: U.S. Government Printing Office, 1955), 7, https://naldc.nal.usda.gov/download/CAT86201093/PDF. \n",
        "Gevorkiantz and Olsen’s Table 4 measures cord volume to a variable “top diameter inside bark of not less than 4.0 inches.”"
      ]
    },
    {
      "cell_type": "markdown",
      "metadata": {
        "id": "8fhRcg1RC2eN"
      },
      "source": [
        ""
      ]
    },
    {
      "cell_type": "code",
      "metadata": {
        "colab": {
          "base_uri": "https://localhost:8080/"
        },
        "id": "DkozGnokghkL",
        "outputId": "45451b9f-59e6-4e4e-ab0c-6e93544b3137"
      },
      "source": [
        "# If an acre produces 30 cords of wood, how many trees would be needed for a cord?\n",
        "# source Estimating Firewood from Standing Trees https://ucanr.edu/sites/placernevadasmallfarms/files/76320.pdf\n",
        "# dbh is diameter breast height, 4.5 feet from the ground\n",
        "length_of_square_acre_in_m = math.sqrt(acres_to_meters(1))\n",
        "print(\"A square acre has sides of \",round(length_of_square_acre_in_m,1), \"meters.\")\n",
        "\n",
        "print(\"If the trees are all 5 inch dbh?\")\n",
        "# 5” 50/ acre\n",
        "dbh5 = 50*30\n",
        "print(dbh5, \"trees. Or 1 tree per square with sides of \",round(length_of_square_acre_in_m/math.sqrt(dbh5),1), \" meters.\")\n",
        "print(\"If the trees are all 6 inch dbh?\")\n",
        "# 6” 20\n",
        "dbh6 = 20*30\n",
        "print(dbh6, \"trees. Or 1 tree per square with sides of \",round(length_of_square_acre_in_m/math.sqrt(dbh6),1), \" meters.\")\n",
        "print(\"If the trees are all 7 inch dbh?\")\n",
        "# 7” 12\n",
        "dbh7 = 12*30\n",
        "print(dbh7, \"trees. Or 1 tree per square with sides of \",round(length_of_square_acre_in_m/math.sqrt(dbh7),1), \" meters.\")\n",
        "# No calculations are made for trees above 7 dbh\n",
        "# Using \"Curve 3\" on page 7 https://www.fs.fed.us/ne/newtown_square/publications/research_papers/pdfs/scanned/rp85.pdf\n",
        "print(\"200 trees 4 inch dbh\")\n",
        "print (200 * 1/100, \"cords\")\n",
        "print(\"80 trees 5 inch dbh\")\n",
        "print (80 * 1/50, \"cords\")\n",
        "print(\"40 trees 6 inch dbh\")\n",
        "print (40 * 1/20, \"cords\")\n",
        "print(\"20 trees 7 inch dbh\")\n",
        "print (round(20 * 1/12,1), \"cords\")\n",
        "print (round(200 * 1/100 + 80 * 1/50 + 40 * 1/20 +20 * 1/12,1), \" per acre\")"
      ],
      "execution_count": 8,
      "outputs": [
        {
          "output_type": "stream",
          "name": "stdout",
          "text": [
            "a square acre has sides of  63.6 meters.\n",
            "If the trees are all 5 inch dbh?\n",
            "1500 trees. Or 1 tree per square with sides of  1.6  meters.\n",
            "If the trees are all 6 inch dbh?\n",
            "600 trees. Or 1 tree per square with sides of  2.6  meters.\n",
            "If the trees are all 7 inch dbh?\n",
            "360 trees. Or 1 tree per square with sides of  3.4  meters.\n",
            "200 trees 4 inch dbh\n",
            "2.0 cords\n",
            "80 trees 5 inch dbh\n",
            "1.6 cords\n",
            "40 trees 6 inch dbh\n",
            "2.0 cords\n",
            "20 trees 7 inch dbh\n",
            "1.7 cords\n",
            "7.3  per acre\n"
          ]
        }
      ]
    }
  ]
}