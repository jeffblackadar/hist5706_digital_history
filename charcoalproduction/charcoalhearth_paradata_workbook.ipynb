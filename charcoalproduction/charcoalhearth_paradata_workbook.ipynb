{
  "nbformat": 4,
  "nbformat_minor": 0,
  "metadata": {
    "colab": {
      "name": "charcoalhearth_paradata_workbook.ipynb",
      "provenance": [],
      "collapsed_sections": []
    },
    "kernelspec": {
      "name": "python3",
      "display_name": "Python 3"
    },
    "language_info": {
      "name": "python"
    }
  },
  "cells": [
    {
      "cell_type": "code",
      "metadata": {
        "colab": {
          "base_uri": "https://localhost:8080/"
        },
        "id": "E8iRJeoKbBZ9",
        "outputId": "75cfd81f-4ac9-4d19-e3b1-eb3abc86eaab"
      },
      "source": [
        "# area of a Hexagon\n",
        "import math\n",
        "\n",
        "def acres_to_meters(acres):\n",
        "# https://en.wikipedia.org/wiki/Acre\n",
        "# 1 acre = 4,047 m2\n",
        "    return acres * 4047\n",
        "\n",
        "def acres_to_feet(acres):\n",
        "# https://en.wikipedia.org/wiki/Acre\n",
        "# 1 acre = 43,560 feet2\n",
        "    return acres * 43560\n",
        "\n",
        "def compute_hexagon_side_length(area):\n",
        "# https://en.wikipedia.org/wiki/Hexagon\n",
        "# hexagon area = 2.598 R^2\n",
        "# R = distance from the center to a point of the hexagon. R also = the length of each of the 6 sides.\n",
        "    return math.sqrt(area/2.598)\n",
        "\n",
        "print(\"A 1 acre hexagon has sides with a length of \", compute_hexagon_side_length(acres_to_meters(1)), \" meters. It is\",compute_hexagon_side_length(acres_to_meters(1))*2,\"m across, point to point or center to center.\")\n",
        "print(\"A 1 acre hexagon has sides with a length of \",compute_hexagon_side_length(acres_to_feet(1)), \" feet. It is\",compute_hexagon_side_length(acres_to_feet(1))*2,\"feet across, point to point or center to center.\")"
      ],
      "execution_count": 4,
      "outputs": [
        {
          "output_type": "stream",
          "name": "stdout",
          "text": [
            "A 1 acre hexagon has sides with a length of  39.468173514292154  meters. It is 78.93634702858431 m across, point to point or center to center.\n",
            "A 1 acre hexagon has sides with a length of  129.48646125738682  feet. It is 258.97292251477364 feet across, point to point or center to center.\n"
          ]
        }
      ]
    },
    {
      "cell_type": "code",
      "metadata": {
        "id": "bZSU9wefbLyG"
      },
      "source": [
        ""
      ],
      "execution_count": null,
      "outputs": []
    },
    {
      "cell_type": "markdown",
      "metadata": {
        "id": "e6Mo8djlbmrs"
      },
      "source": [
        "\"A good woodchopper was expected to average three cords a day, a cord being a stack of logs 4 feet wide and high by 8 feet long\" p16\n",
        "\n",
        "\"An acre contained an average of 30 cords of wood,\" p16\n",
        "\n",
        "Rolando, “19th-Century Charcoal Production in Vermont,” p16\n",
        "\n",
        "## Conclusions\n",
        "\n",
        "1 woodchopper, 10 days of work to cut one acre\n"
      ]
    },
    {
      "cell_type": "markdown",
      "metadata": {
        "id": "8dW4Ch_OeRgk"
      },
      "source": [
        "# Estimating Firewood from Standing Trees\n",
        "# https://ucanr.edu/sites/placernevadasmallfarms/files/76320.pdf\n",
        "\n",
        "# https://www.fs.fed.us/ne/newtown_square/publications/research_papers/pdfs/scanned/rp85.pdf\n",
        "# see page 7"
      ]
    },
    {
      "cell_type": "code",
      "metadata": {
        "colab": {
          "base_uri": "https://localhost:8080/"
        },
        "id": "DkozGnokghkL",
        "outputId": "904d6ca0-7140-4182-9b85-11066858f877"
      },
      "source": [
        "# If an acre produces 30 cords of wood, how many trees would be needed for a cord?\n",
        "# source Estimating Firewood from Standing Trees https://ucanr.edu/sites/placernevadasmallfarms/files/76320.pdf\n",
        "# dbh is diameter breast height, 4.5 feet from the ground\n",
        "length_of_square_acre_in_m = math.sqrt(acres_to_meters(1))\n",
        "print(\"a square acre has sides of \",length_of_square_acre_in_m, \"meters.\")\n",
        "\n",
        "print(\"If the trees are all 5 inch dbh?\")\n",
        "# 5” 50/ acre\n",
        "dbh5 = 50*30\n",
        "print(dbh5, \"trees. Or 1 tree per square with sides of \",length_of_square_acre_in_m/math.sqrt(dbh5), \" meters.\")\n",
        "print(\"If the trees are all 6 inch dbh?\")\n",
        "# 6” 20\n",
        "dbh6 = 20*30\n",
        "print(dbh6, \"trees. Or 1 tree per square with sides of \",length_of_square_acre_in_m/math.sqrt(dbh6), \" meters.\")\n",
        "print(\"If the trees are all 7 inch dbh?\")\n",
        "# 7” 12\n",
        "dbh7 = 12*30\n",
        "print(dbh7, \"trees. Or 1 tree per square with sides of \",length_of_square_acre_in_m/math.sqrt(dbh7), \" meters.\")\n",
        "# No calculations are made for trees above 7 dbh\n",
        "# Using \"Curve 3\" on page 7 https://www.fs.fed.us/ne/newtown_square/publications/research_papers/pdfs/scanned/rp85.pdf\n",
        "print(\"200 trees 4 inch dbh\")\n",
        "print (200 * 1/100, \"cords\")\n",
        "print(\"80 trees 5 inch dbh\")\n",
        "print (80 * 1/50, \"cords\")\n",
        "print(\"40 trees 6 inch dbh\")\n",
        "print (40 * 1/20, \"cords\")\n",
        "print(\"20 trees 7 inch dbh\")\n",
        "print (20 * 1/12, \"cords\")\n",
        "print (200 * 1/100 + 80 * 1/50 + 40 * 1/20 +20 * 1/12, \" per acre\")"
      ],
      "execution_count": 8,
      "outputs": [
        {
          "output_type": "stream",
          "name": "stdout",
          "text": [
            "a square acre has sides of  63.61603571427569 meters.\n",
            "If the trees are all 5 inch dbh?\n",
            "1500 trees. Or 1 tree per square with sides of  1.6425589791541733  meters.\n",
            "If the trees are all 6 inch dbh?\n",
            "600 trees. Or 1 tree per square with sides of  2.5971137826441106  meters.\n",
            "If the trees are all 7 inch dbh?\n",
            "360 trees. Or 1 tree per square with sides of  3.3528594761287964  meters.\n",
            "200 trees 4 inch dbh\n",
            "2.0 cords\n",
            "80 trees 5 inch dbh\n",
            "1.6 cords\n",
            "40 trees 6 inch dbh\n",
            "2.0 cords\n",
            "20 trees 7 inch dbh\n",
            "1.6666666666666667 cords\n",
            "7.266666666666667  per acre\n"
          ]
        }
      ]
    }
  ]
}