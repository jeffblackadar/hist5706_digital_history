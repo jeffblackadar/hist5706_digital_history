{
 "cells": [
  {
   "cell_type": "code",
   "execution_count": 7,
   "metadata": {},
   "outputs": [
    {
     "name": "stdout",
     "output_type": "stream",
     "text": [
      "9.144\n",
      "0.1524\n",
      "ratio 0.01694915254237288\n",
      "185\n"
     ]
    }
   ],
   "source": [
    "# How many trees were used in a hearth?\n",
    "# 1 foot = 0.3048 m\n",
    "def feet_to_meters(feet):\n",
    "    return(feet * 0.3048)\n",
    "def inches_to_meters(inches):\n",
    "    return((inches/12) * 0.3048)    \n",
    "\n",
    "# Python3 program for the above approach\n",
    "import math\n",
    "\n",
    "# https://www.geeksforgeeks.org/number-of-smaller-circles-that-can-be-inscribed-in-a-larger-circle/\n",
    "# credit to ukasp\n",
    "\n",
    "# Function to count number of smaller\n",
    "# circles that can be inscribed in\n",
    "# the larger circle touching its boundary\n",
    "def countInscribed(outer_circle_radius, inner_circle_radius):\n",
    "\t\n",
    "\t# If R2 is greater than R1\n",
    "\tif (inner_circle_radius > outer_circle_radius):\n",
    "\t\treturn 0\n",
    "\n",
    "\t# Stores the angle made\n",
    "\t# by the smaller circle\n",
    "\tangle = 0\n",
    "\n",
    "\t# Stores the ratio\n",
    "\t# of inner_circle_radius / (R1 - inner_circle_radius)\n",
    "\tratio = 0\n",
    "\n",
    "\t# Stores the count of smaller\n",
    "\t# circles that can be inscribed\n",
    "\tnumber_of_circles = 0\n",
    "\n",
    "\t# Stores the ratio\n",
    "\tratio = inner_circle_radius / (outer_circle_radius - inner_circle_radius)\n",
    "\tprint(\"ratio\",ratio)\n",
    "\n",
    "\t# If the diameter of smaller\n",
    "\t# circle is greater than the\n",
    "\t# radius of the larger circle\n",
    "\tif (outer_circle_radius < 2 * inner_circle_radius):\n",
    "\t\tnumber_of_circles = 1\n",
    "\t\n",
    "\t# Otherwise\n",
    "\telse:\n",
    "\n",
    "\t\t# Find the angle using formula\n",
    "\t\tangle = (abs(math.asin(ratio) * 180) /\t3.14159265)\n",
    "\t\t\n",
    "\t\t# Divide 360 with angle\n",
    "\t\t# and take the floor value\n",
    "\t\tnumber_of_circles = math.floor((360 / (2 *\tangle)))\n",
    "\t\n",
    "\t# Return the final result\n",
    "\treturn number_of_circles\n",
    "\n",
    "\n",
    "\n",
    "# This code is contributed by ukasp\n",
    "\n",
    "\n",
    "hearth_circumferance = feet_to_meters(30)\n",
    "print(hearth_circumferance)\n",
    "billet_width = inches_to_meters(6)\n",
    "print(billet_width)\n",
    "\n",
    "print (int(countInscribed(hearth_circumferance, billet_width)))\n"
   ]
  },
  {
   "cell_type": "markdown",
   "metadata": {},
   "source": [
    "# How many trees were used in a hearth?\n"
   ]
  },
  {
   "cell_type": "code",
   "execution_count": null,
   "metadata": {},
   "outputs": [],
   "source": []
  },
  {
   "cell_type": "code",
   "execution_count": null,
   "metadata": {},
   "outputs": [],
   "source": []
  },
  {
   "cell_type": "markdown",
   "metadata": {},
   "source": [
    "# Area \n"
   ]
  },
  {
   "cell_type": "code",
   "execution_count": null,
   "metadata": {},
   "outputs": [],
   "source": [
    "\n"
   ]
  },
  {
   "cell_type": "code",
   "execution_count": null,
   "metadata": {},
   "outputs": [],
   "source": []
  },
  {
   "cell_type": "code",
   "execution_count": null,
   "metadata": {},
   "outputs": [],
   "source": [
    "# area of a Hexagon\n",
    "import math\n",
    "\n",
    "def acres_to_meters(acres)\n",
    "# https://en.wikipedia.org/wiki/Acre\n",
    "# 1 acre = 4,047 m2\n",
    "    return acres * 4047\n",
    "\n",
    "\n",
    "def compute_hexagon_side_length(area)\n",
    "# https://en.wikipedia.org/wiki/Hexagon\n",
    "# hexagon area = 2.598 R^2\n",
    "    return math.sqrt(area/2.598)\n",
    "\n",
    "\n",
    "print(compute_hexagon_side_length(acres_to_meters(1)))\n",
    "\n"
   ]
  }
 ],
 "metadata": {
  "interpreter": {
   "hash": "7d4336f2ccb7b84923d8adfa9910ad0f46196ca006b5dc2fd91d729040d2d831"
  },
  "kernelspec": {
   "display_name": "Python 3.9.2 64-bit",
   "name": "python3"
  },
  "language_info": {
   "codemirror_mode": {
    "name": "ipython",
    "version": 3
   },
   "file_extension": ".py",
   "mimetype": "text/x-python",
   "name": "python",
   "nbconvert_exporter": "python",
   "pygments_lexer": "ipython3",
   "version": "3.9.2"
  },
  "orig_nbformat": 4
 },
 "nbformat": 4,
 "nbformat_minor": 2
}
